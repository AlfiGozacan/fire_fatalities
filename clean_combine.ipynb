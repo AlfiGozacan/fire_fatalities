{
 "cells": [
  {
   "cell_type": "code",
   "execution_count": null,
   "source": [
    "import pandas as pd\r\n",
    "import numpy as np"
   ],
   "outputs": [],
   "metadata": {}
  },
  {
   "cell_type": "code",
   "execution_count": null,
   "source": [
    "casualties_df = pd.read_csv(\"C:\\\\Users\\\\agozacan\\\\OneDrive - Humberside Fire and Rescue Service\\\\Fire Fatality Profiling\\\\Data\\\\casualties.csv\")"
   ],
   "outputs": [],
   "metadata": {}
  },
  {
   "cell_type": "code",
   "execution_count": null,
   "source": [
    "fatalities_df = pd.read_csv(\"C:\\\\Users\\\\agozacan\\\\OneDrive - Humberside Fire and Rescue Service\\\\Fire Fatality Profiling\\\\Data\\\\fatalities.csv\")"
   ],
   "outputs": [],
   "metadata": {}
  },
  {
   "cell_type": "code",
   "execution_count": null,
   "source": [
    "casualties_df.drop(casualties_df[casualties_df[\"CAUSE_OF_FIRE\"] == \"Unspecified cause\"].index, axis=0, inplace=True)\r\n",
    "casualties_df.drop(casualties_df[casualties_df[\"SOURCE_OF_IGNITION\"] == \"Other/ Unspecified\"].index, axis=0, inplace=True)\r\n",
    "casualties_df.drop(casualties_df[casualties_df[\"FIRE_START_LOCATION\"] == \"Other\"].index, axis=0, inplace=True)\r\n",
    "casualties_df.drop(casualties_df[casualties_df[\"VICTIM_LOCATION_START\"] == \"Other, unknown or not applicable\"].index, axis=0, inplace=True)\r\n",
    "casualties_df.drop(casualties_df[casualties_df[\"VICTIM_LOCATION_FOUND\"] == \"Other, unknown or not applicable\"].index, axis=0, inplace=True)\r\n",
    "casualties_df.drop(casualties_df[casualties_df[\"VICTIM_AGE\"] == \"Unspecified\"].index, axis=0, inplace=True)\r\n",
    "casualties_df.drop(casualties_df[casualties_df[\"VICTIM_GENDER\"] == \"Not known\"].index, axis=0, inplace=True)"
   ],
   "outputs": [],
   "metadata": {}
  },
  {
   "cell_type": "code",
   "execution_count": null,
   "source": [
    "fatalities_df.drop(fatalities_df[fatalities_df[\"CAUSE_OF_FIRE\"] == \"Unspecified cause\"].index, axis=0, inplace=True)\r\n",
    "fatalities_df.drop(fatalities_df[fatalities_df[\"SOURCE_OF_IGNITION\"] == \"Other/ Unspecified\"].index, axis=0, inplace=True)\r\n",
    "fatalities_df.drop(fatalities_df[fatalities_df[\"FIRE_START_LOCATION\"] == \"Other\"].index, axis=0, inplace=True)\r\n",
    "fatalities_df.drop(fatalities_df[fatalities_df[\"VICTIM_LOCATION_START\"] == \"Other, unknown or not applicable\"].index, axis=0, inplace=True)\r\n",
    "fatalities_df.drop(fatalities_df[fatalities_df[\"VICTIM_LOCATION_FOUND\"] == \"Other, unknown or not applicable\"].index, axis=0, inplace=True)\r\n",
    "fatalities_df.drop(fatalities_df[fatalities_df[\"VICTIM_AGE\"] == \"Unspecified\"].index, axis=0, inplace=True)\r\n",
    "fatalities_df.drop(fatalities_df[fatalities_df[\"VICTIM_GENDER\"] == \"Not known\"].index, axis=0, inplace=True)"
   ],
   "outputs": [],
   "metadata": {}
  },
  {
   "cell_type": "code",
   "execution_count": null,
   "source": [
    "casualties_df[\"FATALITY\"] = [0 for i in range(len(casualties_df))]"
   ],
   "outputs": [],
   "metadata": {}
  },
  {
   "cell_type": "code",
   "execution_count": null,
   "source": [
    "fatalities_df[\"FATALITY\"] = [1 for i in range(len(fatalities_df))]"
   ],
   "outputs": [],
   "metadata": {}
  },
  {
   "cell_type": "code",
   "execution_count": null,
   "source": [
    "casualties_df.drop([\"FINANCIAL_YEAR\", \"OCCUPANCY_STATUS\", \"VICTIM RESCUED\", \"INJURY_TYPE\", \"INJURY_SEVERITY\", \"FIRE_RELATED\", \"CASUALTY_TOTAL\"], axis=1, inplace=True)"
   ],
   "outputs": [],
   "metadata": {}
  },
  {
   "cell_type": "code",
   "execution_count": null,
   "source": [
    "casualties_df.columns"
   ],
   "outputs": [],
   "metadata": {}
  },
  {
   "cell_type": "code",
   "execution_count": null,
   "source": [
    "fatalities_df.drop([\"FINANCIAL_YEAR\", \"FATALITY_CIRCUMSTANCES_DESCRIPTION\", \"FATALITY_CAUSE\", \"FATALITY_TOTAL\"], axis=1, inplace=True)"
   ],
   "outputs": [],
   "metadata": {}
  },
  {
   "cell_type": "code",
   "execution_count": null,
   "source": [
    "fatalities_df.columns"
   ],
   "outputs": [],
   "metadata": {}
  },
  {
   "cell_type": "code",
   "execution_count": null,
   "source": [
    "drop_indices = np.random.choice(a=casualties_df.index, size=len(casualties_df)-len(fatalities_df), replace=False)"
   ],
   "outputs": [],
   "metadata": {}
  },
  {
   "cell_type": "code",
   "execution_count": null,
   "source": [
    "casualties_df.drop(drop_indices, axis=0, inplace=True)"
   ],
   "outputs": [],
   "metadata": {}
  },
  {
   "cell_type": "code",
   "execution_count": null,
   "source": [
    "df = pd.concat([casualties_df, fatalities_df])"
   ],
   "outputs": [],
   "metadata": {}
  },
  {
   "cell_type": "code",
   "execution_count": null,
   "source": [
    "for field_name in df.columns:\r\n",
    "    df[field_name] = df[field_name].replace(df[field_name].unique(), range(len(df[field_name].unique())))"
   ],
   "outputs": [],
   "metadata": {}
  },
  {
   "cell_type": "code",
   "execution_count": null,
   "source": [
    "df.head()"
   ],
   "outputs": [],
   "metadata": {}
  },
  {
   "cell_type": "code",
   "execution_count": null,
   "source": [
    "len(df.columns)"
   ],
   "outputs": [],
   "metadata": {}
  },
  {
   "cell_type": "code",
   "execution_count": null,
   "source": [
    "len(df)"
   ],
   "outputs": [],
   "metadata": {}
  },
  {
   "cell_type": "code",
   "execution_count": null,
   "source": [
    "len(df[df[\"FATALITY\"] == 1])"
   ],
   "outputs": [],
   "metadata": {}
  },
  {
   "cell_type": "code",
   "execution_count": null,
   "source": [
    "df.to_csv(\"C:\\\\Users\\\\agozacan\\\\OneDrive - Humberside Fire and Rescue Service\\\\Fire Fatality Profiling\\\\Data\\\\model_data.csv\", index=False)"
   ],
   "outputs": [],
   "metadata": {}
  }
 ],
 "metadata": {
  "kernelspec": {
   "name": "python3",
   "display_name": "Python 3.9.6 64-bit"
  },
  "language_info": {
   "codemirror_mode": {
    "name": "ipython",
    "version": 3
   },
   "file_extension": ".py",
   "mimetype": "text/x-python",
   "name": "python",
   "nbconvert_exporter": "python",
   "pygments_lexer": "ipython3",
   "version": "3.9.6"
  },
  "interpreter": {
   "hash": "14eabb916c6544ec72073d369246e9786cf732268ebd379f4cd554d89eecb526"
  }
 },
 "nbformat": 4,
 "nbformat_minor": 5
}