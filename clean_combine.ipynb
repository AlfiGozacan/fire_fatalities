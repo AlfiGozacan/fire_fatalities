{
 "cells": [
  {
   "cell_type": "code",
   "execution_count": 1,
   "source": [
    "import pandas as pd\r\n",
    "import numpy as np"
   ],
   "outputs": [],
   "metadata": {}
  },
  {
   "cell_type": "code",
   "execution_count": 2,
   "source": [
    "casualties_df = pd.read_csv(\"C:\\\\Users\\\\..\\\\Data\\\\casualties.csv\")"
   ],
   "outputs": [],
   "metadata": {}
  },
  {
   "cell_type": "code",
   "execution_count": 3,
   "source": [
    "fatalities_df = pd.read_csv(\"C:\\\\Users\\\\..\\\\Data\\\\fatalities.csv\")"
   ],
   "outputs": [],
   "metadata": {}
  },
  {
   "cell_type": "code",
   "execution_count": 4,
   "source": [
    "casualties_df[\"FATALITY\"] = [0 for i in range(len(casualties_df))]"
   ],
   "outputs": [],
   "metadata": {}
  },
  {
   "cell_type": "code",
   "execution_count": 5,
   "source": [
    "fatalities_df[\"FATALITY\"] = [1 for i in range(len(fatalities_df))]"
   ],
   "outputs": [],
   "metadata": {}
  },
  {
   "cell_type": "code",
   "execution_count": 6,
   "source": [
    "casualties_df.drop([\"FINANCIAL_YEAR\", \"OCCUPANCY_STATUS\", \"VICTIM RESCUED\", \"INJURY_TYPE\", \"INJURY_SEVERITY\", \"FIRE_RELATED\", \"CASUALTY_TOTAL\"], axis=1, inplace=True)"
   ],
   "outputs": [],
   "metadata": {}
  },
  {
   "cell_type": "code",
   "execution_count": 7,
   "source": [
    "casualties_df.columns"
   ],
   "outputs": [
    {
     "output_type": "execute_result",
     "data": {
      "text/plain": [
       "Index(['HOUR_BANDS', 'INCIDENT_LOCATION_TYPE', 'ACCIDENTAL_OR_DELIBERATE',\n",
       "       'ALARM_SYSTEM', 'CAUSE_OF_FIRE', 'SOURCE_OF_IGNITION',\n",
       "       'FIRE_START_LOCATION', 'VICTIM_LOCATION_START', 'VICTIM_LOCATION_FOUND',\n",
       "       'VICTIM_AGE', 'VICTIM_GENDER', 'FATALITY'],\n",
       "      dtype='object')"
      ]
     },
     "metadata": {},
     "execution_count": 7
    }
   ],
   "metadata": {}
  },
  {
   "cell_type": "code",
   "execution_count": 8,
   "source": [
    "fatalities_df.drop([\"FINANCIAL_YEAR\", \"FATALITY_CIRCUMSTANCES_DESCRIPTION\", \"FATALITY_CAUSE\", \"FATALITY_TOTAL\"], axis=1, inplace=True)"
   ],
   "outputs": [],
   "metadata": {}
  },
  {
   "cell_type": "code",
   "execution_count": 9,
   "source": [
    "fatalities_df.columns"
   ],
   "outputs": [
    {
     "output_type": "execute_result",
     "data": {
      "text/plain": [
       "Index(['HOUR_BANDS', 'INCIDENT_LOCATION_TYPE', 'ACCIDENTAL_OR_DELIBERATE',\n",
       "       'ALARM_SYSTEM', 'CAUSE_OF_FIRE', 'SOURCE_OF_IGNITION',\n",
       "       'FIRE_START_LOCATION', 'VICTIM_LOCATION_START', 'VICTIM_LOCATION_FOUND',\n",
       "       'VICTIM_AGE', 'VICTIM_GENDER', 'FATALITY'],\n",
       "      dtype='object')"
      ]
     },
     "metadata": {},
     "execution_count": 9
    }
   ],
   "metadata": {}
  },
  {
   "cell_type": "code",
   "execution_count": 10,
   "source": [
    "drop_indices = np.random.choice(a=casualties_df.index, size=len(casualties_df)-len(fatalities_df), replace=False)"
   ],
   "outputs": [],
   "metadata": {}
  },
  {
   "cell_type": "code",
   "execution_count": 11,
   "source": [
    "casualties_df = casualties_df.drop(drop_indices, axis=0)"
   ],
   "outputs": [],
   "metadata": {}
  },
  {
   "cell_type": "code",
   "execution_count": 12,
   "source": [
    "df = pd.concat([casualties_df, fatalities_df])"
   ],
   "outputs": [],
   "metadata": {}
  },
  {
   "cell_type": "code",
   "execution_count": 13,
   "source": [
    "for field_name in df.columns:\r\n",
    "    df[field_name] = df[field_name].replace(df[field_name].unique(), range(len(df[field_name].unique())))"
   ],
   "outputs": [],
   "metadata": {}
  },
  {
   "cell_type": "code",
   "execution_count": 14,
   "source": [
    "df.head()"
   ],
   "outputs": [
    {
     "output_type": "execute_result",
     "data": {
      "text/html": [
       "<div>\n",
       "<style scoped>\n",
       "    .dataframe tbody tr th:only-of-type {\n",
       "        vertical-align: middle;\n",
       "    }\n",
       "\n",
       "    .dataframe tbody tr th {\n",
       "        vertical-align: top;\n",
       "    }\n",
       "\n",
       "    .dataframe thead th {\n",
       "        text-align: right;\n",
       "    }\n",
       "</style>\n",
       "<table border=\"1\" class=\"dataframe\">\n",
       "  <thead>\n",
       "    <tr style=\"text-align: right;\">\n",
       "      <th></th>\n",
       "      <th>HOUR_BANDS</th>\n",
       "      <th>INCIDENT_LOCATION_TYPE</th>\n",
       "      <th>ACCIDENTAL_OR_DELIBERATE</th>\n",
       "      <th>ALARM_SYSTEM</th>\n",
       "      <th>CAUSE_OF_FIRE</th>\n",
       "      <th>SOURCE_OF_IGNITION</th>\n",
       "      <th>FIRE_START_LOCATION</th>\n",
       "      <th>VICTIM_LOCATION_START</th>\n",
       "      <th>VICTIM_LOCATION_FOUND</th>\n",
       "      <th>VICTIM_AGE</th>\n",
       "      <th>VICTIM_GENDER</th>\n",
       "      <th>FATALITY</th>\n",
       "    </tr>\n",
       "  </thead>\n",
       "  <tbody>\n",
       "    <tr>\n",
       "      <th>32</th>\n",
       "      <td>0</td>\n",
       "      <td>0</td>\n",
       "      <td>0</td>\n",
       "      <td>0</td>\n",
       "      <td>0</td>\n",
       "      <td>0</td>\n",
       "      <td>0</td>\n",
       "      <td>0</td>\n",
       "      <td>0</td>\n",
       "      <td>0</td>\n",
       "      <td>0</td>\n",
       "      <td>0</td>\n",
       "    </tr>\n",
       "    <tr>\n",
       "      <th>41</th>\n",
       "      <td>0</td>\n",
       "      <td>0</td>\n",
       "      <td>0</td>\n",
       "      <td>1</td>\n",
       "      <td>1</td>\n",
       "      <td>1</td>\n",
       "      <td>0</td>\n",
       "      <td>0</td>\n",
       "      <td>0</td>\n",
       "      <td>1</td>\n",
       "      <td>1</td>\n",
       "      <td>0</td>\n",
       "    </tr>\n",
       "    <tr>\n",
       "      <th>46</th>\n",
       "      <td>0</td>\n",
       "      <td>0</td>\n",
       "      <td>0</td>\n",
       "      <td>2</td>\n",
       "      <td>2</td>\n",
       "      <td>2</td>\n",
       "      <td>0</td>\n",
       "      <td>1</td>\n",
       "      <td>0</td>\n",
       "      <td>0</td>\n",
       "      <td>0</td>\n",
       "      <td>0</td>\n",
       "    </tr>\n",
       "    <tr>\n",
       "      <th>63</th>\n",
       "      <td>0</td>\n",
       "      <td>0</td>\n",
       "      <td>0</td>\n",
       "      <td>3</td>\n",
       "      <td>1</td>\n",
       "      <td>3</td>\n",
       "      <td>1</td>\n",
       "      <td>0</td>\n",
       "      <td>0</td>\n",
       "      <td>2</td>\n",
       "      <td>1</td>\n",
       "      <td>0</td>\n",
       "    </tr>\n",
       "    <tr>\n",
       "      <th>101</th>\n",
       "      <td>0</td>\n",
       "      <td>0</td>\n",
       "      <td>0</td>\n",
       "      <td>0</td>\n",
       "      <td>3</td>\n",
       "      <td>3</td>\n",
       "      <td>1</td>\n",
       "      <td>0</td>\n",
       "      <td>0</td>\n",
       "      <td>0</td>\n",
       "      <td>0</td>\n",
       "      <td>0</td>\n",
       "    </tr>\n",
       "  </tbody>\n",
       "</table>\n",
       "</div>"
      ],
      "text/plain": [
       "     HOUR_BANDS  INCIDENT_LOCATION_TYPE  ACCIDENTAL_OR_DELIBERATE  \\\n",
       "32            0                       0                         0   \n",
       "41            0                       0                         0   \n",
       "46            0                       0                         0   \n",
       "63            0                       0                         0   \n",
       "101           0                       0                         0   \n",
       "\n",
       "     ALARM_SYSTEM  CAUSE_OF_FIRE  SOURCE_OF_IGNITION  FIRE_START_LOCATION  \\\n",
       "32              0              0                   0                    0   \n",
       "41              1              1                   1                    0   \n",
       "46              2              2                   2                    0   \n",
       "63              3              1                   3                    1   \n",
       "101             0              3                   3                    1   \n",
       "\n",
       "     VICTIM_LOCATION_START  VICTIM_LOCATION_FOUND  VICTIM_AGE  VICTIM_GENDER  \\\n",
       "32                       0                      0           0              0   \n",
       "41                       0                      0           1              1   \n",
       "46                       1                      0           0              0   \n",
       "63                       0                      0           2              1   \n",
       "101                      0                      0           0              0   \n",
       "\n",
       "     FATALITY  \n",
       "32          0  \n",
       "41          0  \n",
       "46          0  \n",
       "63          0  \n",
       "101         0  "
      ]
     },
     "metadata": {},
     "execution_count": 14
    }
   ],
   "metadata": {}
  },
  {
   "cell_type": "code",
   "execution_count": 15,
   "source": [
    "len(df.columns)"
   ],
   "outputs": [
    {
     "output_type": "execute_result",
     "data": {
      "text/plain": [
       "12"
      ]
     },
     "metadata": {},
     "execution_count": 15
    }
   ],
   "metadata": {}
  },
  {
   "cell_type": "code",
   "execution_count": 16,
   "source": [
    "len(df)"
   ],
   "outputs": [
    {
     "output_type": "execute_result",
     "data": {
      "text/plain": [
       "6252"
      ]
     },
     "metadata": {},
     "execution_count": 16
    }
   ],
   "metadata": {}
  },
  {
   "cell_type": "code",
   "execution_count": 17,
   "source": [
    "len(df[df[\"FATALITY\"] == 1])"
   ],
   "outputs": [
    {
     "output_type": "execute_result",
     "data": {
      "text/plain": [
       "3126"
      ]
     },
     "metadata": {},
     "execution_count": 17
    }
   ],
   "metadata": {}
  },
  {
   "cell_type": "code",
   "execution_count": 18,
   "source": [
    "df.to_csv(\"C:\\\\Users\\\\agozacan\\\\..\\\\Data\\\\model_data.csv\", index=False)"
   ],
   "outputs": [],
   "metadata": {}
  }
 ],
 "metadata": {
  "kernelspec": {
   "name": "python3",
   "display_name": "Python 3.9.6 64-bit"
  },
  "language_info": {
   "codemirror_mode": {
    "name": "ipython",
    "version": 3
   },
   "file_extension": ".py",
   "mimetype": "text/x-python",
   "name": "python",
   "nbconvert_exporter": "python",
   "pygments_lexer": "ipython3",
   "version": "3.9.6"
  },
  "interpreter": {
   "hash": "14eabb916c6544ec72073d369246e9786cf732268ebd379f4cd554d89eecb526"
  }
 },
 "nbformat": 4,
 "nbformat_minor": 5
}
