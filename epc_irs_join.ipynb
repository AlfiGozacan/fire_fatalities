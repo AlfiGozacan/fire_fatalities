{
 "cells": [
  {
   "cell_type": "code",
   "execution_count": null,
   "metadata": {},
   "outputs": [],
   "source": [
    "import pyodbc\n",
    "import pandas as pd\n",
    "import numpy as np\n",
    "from tqdm import tqdm\n",
    "from fuzzywuzzy import fuzz"
   ]
  },
  {
   "cell_type": "code",
   "execution_count": null,
   "metadata": {},
   "outputs": [],
   "source": [
    "server = \"HQIRS\"\n",
    "database = \"threetc_irs\"\n",
    "\n",
    "cnxn = pyodbc.connect(\"DRIVER={SQL Server};SERVER=\"+server+\";DATABASE=\"+database)\n",
    "cursor = cnxn.cursor()\n",
    "\n",
    "query = '''\n",
    "select *\n",
    "from inc_incident\n",
    "where inc_property_type in (\n",
    "    select CODE\n",
    "    from Reporting_MENU_IRS_PROPERTY_TYPE\n",
    "    where CATEGORY = 'Dwelling'\n",
    ")\n",
    "and inc_initial_incident_type = 'Fire - Building'\n",
    "'''\n",
    "\n",
    "incident_df = pd.read_sql(query, cnxn)"
   ]
  },
  {
   "cell_type": "code",
   "execution_count": null,
   "metadata": {},
   "outputs": [],
   "source": [
    "file_path = \"C:\\\\Users\\\\agozacan\\\\OneDrive - Humberside Fire and Rescue Service\\\\Fire Fatality Profiling\\\\Data\\\\Residential EPC Data\\\\\""
   ]
  },
  {
   "cell_type": "code",
   "execution_count": null,
   "metadata": {},
   "outputs": [],
   "source": [
    "epc_df = pd.read_csv(file_path+\"combined_epc_data.csv\")"
   ]
  },
  {
   "cell_type": "code",
   "execution_count": null,
   "metadata": {},
   "outputs": [],
   "source": [
    "epc_df.replace(np.nan, \"\", inplace=True)\n",
    "incident_df.replace(np.nan, \"\", inplace=True)"
   ]
  },
  {
   "cell_type": "code",
   "execution_count": null,
   "metadata": {},
   "outputs": [],
   "source": [
    "epc_addresses = []\n",
    "\n",
    "for i in tqdm(range(len(epc_df))):\n",
    "\n",
    "    string = \" \".join(thing for thing in epc_df.iloc[i, :4])\n",
    "\n",
    "    epc_addresses.append(string)"
   ]
  },
  {
   "cell_type": "code",
   "execution_count": null,
   "metadata": {},
   "outputs": [],
   "source": [
    "inc_addresses = []\n",
    "\n",
    "for i in tqdm(range(len(incident_df))):\n",
    "\n",
    "    string = \" \".join(thing for thing in incident_df.loc[i, [\"inc_location_address\", \"inc_location_postcode\"]]).replace(\";\", \" \")\n",
    "\n",
    "    inc_addresses.append(string)"
   ]
  },
  {
   "cell_type": "code",
   "execution_count": null,
   "metadata": {},
   "outputs": [],
   "source": [
    "### MATCHES EPC ADDRESSES TO INCIDENT ADDRESSES. TAKES ABOUT 6 HOURS TO RUN\n",
    "\n",
    "matching_indices = []\n",
    "\n",
    "for i in tqdm(range(len(epc_addresses))):\n",
    "\n",
    "    fuzz_ratios = []\n",
    "\n",
    "    for j in range(len(inc_addresses)):\n",
    "\n",
    "        fuzz_ratios.append(fuzz.token_set_ratio(epc_addresses[i], inc_addresses[j]))\n",
    "\n",
    "    if max(fuzz_ratios) > 97:\n",
    "\n",
    "        index = fuzz_ratios.index(max(fuzz_ratios))\n",
    "\n",
    "    else:\n",
    "\n",
    "        index = 0\n",
    "\n",
    "    matching_indices.append(index)"
   ]
  },
  {
   "cell_type": "code",
   "execution_count": null,
   "metadata": {},
   "outputs": [],
   "source": [
    "### ATTACH THE MATCHING INCIDENT INDICES (AT TIME OF DATA LOADING) TO THE EPC DATA\n",
    "\n",
    "for epc_ind, inc_ind in enumerate(tqdm(matching_indices)):\n",
    "\n",
    "    epc_df.loc[epc_ind, \"ref\"] = inc_ind"
   ]
  },
  {
   "cell_type": "code",
   "execution_count": null,
   "metadata": {},
   "outputs": [],
   "source": [
    "# epc_df.to_csv(file_path+\"epc_with_incs_v2.csv\", index=False)"
   ]
  },
  {
   "cell_type": "code",
   "execution_count": null,
   "metadata": {},
   "outputs": [],
   "source": [
    "epc_df[epc_df[\"ref\"] != 0].merge(right=incident_df[\"inc_location_address\"], left_on=\"ref\", right_index=True, how=\"inner\").head(50).sort_values(by=\"ref\")"
   ]
  }
 ],
 "metadata": {
  "interpreter": {
   "hash": "14eabb916c6544ec72073d369246e9786cf732268ebd379f4cd554d89eecb526"
  },
  "kernelspec": {
   "display_name": "Python 3.9.6 64-bit",
   "language": "python",
   "name": "python3"
  },
  "language_info": {
   "codemirror_mode": {
    "name": "ipython",
    "version": 3
   },
   "file_extension": ".py",
   "mimetype": "text/x-python",
   "name": "python",
   "nbconvert_exporter": "python",
   "pygments_lexer": "ipython3",
   "version": "3.9.6"
  },
  "orig_nbformat": 4
 },
 "nbformat": 4,
 "nbformat_minor": 2
}
