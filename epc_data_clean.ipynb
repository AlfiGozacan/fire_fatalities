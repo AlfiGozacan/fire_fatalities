{
 "cells": [
  {
   "cell_type": "code",
   "execution_count": null,
   "id": "7157d5cc",
   "metadata": {},
   "outputs": [],
   "source": [
    "import pandas as pd\n",
    "import matplotlib.pyplot as plt"
   ]
  },
  {
   "cell_type": "code",
   "execution_count": null,
   "id": "157bb8e8",
   "metadata": {},
   "outputs": [],
   "source": [
    "file_path = \"C:\\\\Users\\\\agozacan\\\\OneDrive - Humberside Fire and Rescue Service\\\\Fire Fatality Profiling\\\\Data\\\\Residential EPC Data\\\\\""
   ]
  },
  {
   "cell_type": "code",
   "execution_count": null,
   "id": "553cd25e",
   "metadata": {},
   "outputs": [],
   "source": [
    "places = [\"ERY\", \"Hull\", \"NLincs\", \"NELincs\"]"
   ]
  },
  {
   "cell_type": "code",
   "execution_count": null,
   "id": "6b72d40f",
   "metadata": {},
   "outputs": [],
   "source": [
    "cols = [\"ADDRESS1\", \"ADDRESS2\", \"ADDRESS3\",\t\"POSTCODE\",\n",
    "\"CURRENT_ENERGY_RATING\", \"CURRENT_ENERGY_EFFICIENCY\", \"PROPERTY_TYPE\",\t\"BUILT_FORM\", \"TRANSACTION_TYPE\"]"
   ]
  },
  {
   "cell_type": "code",
   "execution_count": null,
   "id": "17822800",
   "metadata": {},
   "outputs": [],
   "source": [
    "for i in range(len(places)):\n",
    "    if i == 0:\n",
    "        df = pd.read_csv(file_path + \"certificates_\" + places[i] + \".csv\")[cols]\n",
    "    else:\n",
    "        df = pd.concat([df, pd.read_csv(file_path + \"certificates_\" + places[i] + \".csv\")[cols]]).reset_index(drop=True)"
   ]
  },
  {
   "cell_type": "code",
   "execution_count": null,
   "id": "14bd9cd9",
   "metadata": {},
   "outputs": [],
   "source": [
    "df.to_csv(file_path + \"combined_epc_data.csv\", index=False)"
   ]
  }
 ],
 "metadata": {
  "interpreter": {
   "hash": "14eabb916c6544ec72073d369246e9786cf732268ebd379f4cd554d89eecb526"
  },
  "kernelspec": {
   "display_name": "Python 3.9.6 64-bit",
   "name": "python3"
  },
  "language_info": {
   "codemirror_mode": {
    "name": "ipython",
    "version": 3
   },
   "file_extension": ".py",
   "mimetype": "text/x-python",
   "name": "python",
   "nbconvert_exporter": "python",
   "pygments_lexer": "ipython3",
   "version": "3.9.6"
  }
 },
 "nbformat": 4,
 "nbformat_minor": 5
}
