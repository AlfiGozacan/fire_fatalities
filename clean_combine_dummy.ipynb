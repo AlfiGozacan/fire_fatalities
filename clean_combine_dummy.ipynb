{
 "cells": [
  {
   "cell_type": "code",
   "execution_count": 1,
   "metadata": {},
   "outputs": [],
   "source": [
    "import pandas as pd\n",
    "import numpy as np\n",
    "from sklearn.preprocessing import OneHotEncoder"
   ]
  },
  {
   "cell_type": "code",
   "execution_count": 2,
   "metadata": {},
   "outputs": [],
   "source": [
    "casualties_df = pd.read_csv(\"C:\\\\Users\\\\agozacan\\\\OneDrive - Humberside Fire and Rescue Service\\\\Fire Fatality Profiling\\\\Data\\\\casualties.csv\")"
   ]
  },
  {
   "cell_type": "code",
   "execution_count": 3,
   "metadata": {},
   "outputs": [],
   "source": [
    "fatalities_df = pd.read_csv(\"C:\\\\Users\\\\agozacan\\\\OneDrive - Humberside Fire and Rescue Service\\\\Fire Fatality Profiling\\\\Data\\\\fatalities.csv\")"
   ]
  },
  {
   "cell_type": "code",
   "execution_count": 4,
   "metadata": {},
   "outputs": [],
   "source": [
    "casualties_df.drop(casualties_df[casualties_df[\"CAUSE_OF_FIRE\"] == \"Unspecified cause\"].index, axis=0, inplace=True)\n",
    "casualties_df.drop(casualties_df[casualties_df[\"SOURCE_OF_IGNITION\"] == \"Other/ Unspecified\"].index, axis=0, inplace=True)\n",
    "casualties_df.drop(casualties_df[casualties_df[\"FIRE_START_LOCATION\"] == \"Other\"].index, axis=0, inplace=True)\n",
    "casualties_df.drop(casualties_df[casualties_df[\"VICTIM_AGE\"] == \"Unspecified\"].index, axis=0, inplace=True)\n",
    "casualties_df.drop(casualties_df[casualties_df[\"VICTIM_GENDER\"] == \"Not known\"].index, axis=0, inplace=True)"
   ]
  },
  {
   "cell_type": "code",
   "execution_count": 5,
   "metadata": {},
   "outputs": [],
   "source": [
    "fatalities_df.drop(fatalities_df[fatalities_df[\"CAUSE_OF_FIRE\"] == \"Unspecified cause\"].index, axis=0, inplace=True)\n",
    "fatalities_df.drop(fatalities_df[fatalities_df[\"SOURCE_OF_IGNITION\"] == \"Other/ Unspecified\"].index, axis=0, inplace=True)\n",
    "fatalities_df.drop(fatalities_df[fatalities_df[\"FIRE_START_LOCATION\"] == \"Other\"].index, axis=0, inplace=True)\n",
    "fatalities_df.drop(fatalities_df[fatalities_df[\"VICTIM_AGE\"] == \"Unspecified\"].index, axis=0, inplace=True)\n",
    "fatalities_df.drop(fatalities_df[fatalities_df[\"VICTIM_GENDER\"] == \"Not known\"].index, axis=0, inplace=True)"
   ]
  },
  {
   "cell_type": "code",
   "execution_count": 6,
   "metadata": {},
   "outputs": [],
   "source": [
    "casualties_df[\"FATALITY\"] = [0 for i in range(len(casualties_df))]"
   ]
  },
  {
   "cell_type": "code",
   "execution_count": 7,
   "metadata": {},
   "outputs": [],
   "source": [
    "fatalities_df[\"FATALITY\"] = [1 for i in range(len(fatalities_df))]"
   ]
  },
  {
   "cell_type": "code",
   "execution_count": 8,
   "metadata": {},
   "outputs": [],
   "source": [
    "casualties_df.drop([\"FINANCIAL_YEAR\", \"OCCUPANCY_STATUS\", \"VICTIM_LOCATION_START\", \"VICTIM_LOCATION_FOUND\", \"VICTIM RESCUED\", \"INJURY_TYPE\", \"INJURY_SEVERITY\", \"FIRE_RELATED\", \"CASUALTY_TOTAL\"], axis=1, inplace=True)"
   ]
  },
  {
   "cell_type": "code",
   "execution_count": 9,
   "metadata": {},
   "outputs": [],
   "source": [
    "fatalities_df.drop([\"FINANCIAL_YEAR\", \"VICTIM_LOCATION_START\", \"VICTIM_LOCATION_FOUND\", \"FATALITY_CIRCUMSTANCES_DESCRIPTION\", \"FATALITY_CAUSE\", \"FATALITY_TOTAL\"], axis=1, inplace=True)"
   ]
  },
  {
   "cell_type": "code",
   "execution_count": 10,
   "metadata": {},
   "outputs": [],
   "source": [
    "drop_indices = np.random.choice(a=casualties_df.index, size=len(casualties_df)-len(fatalities_df), replace=False)"
   ]
  },
  {
   "cell_type": "code",
   "execution_count": 11,
   "metadata": {},
   "outputs": [],
   "source": [
    "casualties_df.drop(drop_indices, axis=0, inplace=True)"
   ]
  },
  {
   "cell_type": "code",
   "execution_count": 12,
   "metadata": {},
   "outputs": [],
   "source": [
    "df = pd.concat([casualties_df, fatalities_df])"
   ]
  },
  {
   "cell_type": "code",
   "execution_count": 13,
   "metadata": {},
   "outputs": [],
   "source": [
    "encoder = OneHotEncoder(drop=\"first\", sparse=False)\n",
    "\n",
    "dummy_view = encoder.fit_transform(df)"
   ]
  },
  {
   "cell_type": "code",
   "execution_count": 14,
   "metadata": {},
   "outputs": [],
   "source": [
    "encoded_df = pd.DataFrame(dummy_view)"
   ]
  },
  {
   "cell_type": "code",
   "execution_count": 15,
   "metadata": {},
   "outputs": [],
   "source": [
    "encoded_df.columns = encoder.get_feature_names()"
   ]
  },
  {
   "cell_type": "code",
   "execution_count": 16,
   "metadata": {},
   "outputs": [],
   "source": [
    "encoded_df.to_csv(\"C:\\\\Users\\\\agozacan\\\\OneDrive - Humberside Fire and Rescue Service\\\\Fire Fatality Profiling\\\\Data\\\\model_data_dummy.csv\", index=False)"
   ]
  }
 ],
 "metadata": {
  "interpreter": {
   "hash": "14eabb916c6544ec72073d369246e9786cf732268ebd379f4cd554d89eecb526"
  },
  "kernelspec": {
   "display_name": "Python 3.9.6 64-bit",
   "name": "python3"
  },
  "language_info": {
   "codemirror_mode": {
    "name": "ipython",
    "version": 3
   },
   "file_extension": ".py",
   "mimetype": "text/x-python",
   "name": "python",
   "nbconvert_exporter": "python",
   "pygments_lexer": "ipython3",
   "version": "3.9.6"
  }
 },
 "nbformat": 4,
 "nbformat_minor": 5
}
